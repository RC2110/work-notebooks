{
 "cells": [
  {
   "cell_type": "code",
   "execution_count": 47,
   "id": "b9429188-0ae1-4f33-9e09-c429e0c313a8",
   "metadata": {},
   "outputs": [],
   "source": [
    "import requests, bs4"
   ]
  },
  {
   "cell_type": "code",
   "execution_count": 48,
   "id": "a9abc27c-19b5-4c39-86fd-73e48757c2e5",
   "metadata": {},
   "outputs": [],
   "source": [
    "url='https://play.google.com/store/apps/details?id=com.facebook.orca&hl=en'"
   ]
  },
  {
   "cell_type": "code",
   "execution_count": 49,
   "id": "22b4ddf5-4045-4ace-9750-47eab41f37c2",
   "metadata": {},
   "outputs": [],
   "source": [
    "data=requests.get(url)"
   ]
  },
  {
   "cell_type": "code",
   "execution_count": 50,
   "id": "21f31d41-13a0-49f5-91fb-7e4fa8d83b40",
   "metadata": {},
   "outputs": [],
   "source": [
    "soup=bs4.BeautifulSoup(data.text, \"html5lib\")"
   ]
  },
  {
   "cell_type": "code",
   "execution_count": 51,
   "id": "86543715-b965-4771-91bf-450d85efbfab",
   "metadata": {},
   "outputs": [],
   "source": [
    "reviews=soup.select('.h3YV2d')"
   ]
  },
  {
   "cell_type": "code",
   "execution_count": 64,
   "id": "c6ab5a2f-e400-4700-a910-f2b4de1677a0",
   "metadata": {},
   "outputs": [
    {
     "name": "stdout",
     "output_type": "stream",
     "text": [
      "<class 'bs4.element.ResultSet'>\n",
      "3\n",
      "\n",
      "\n"
     ]
    }
   ],
   "source": [
    "print(type(reviews))\n",
    "print(len(reviews))\n",
    "print('\\n')\n",
    "reviews=list(reviews)"
   ]
  },
  {
   "cell_type": "code",
   "execution_count": 66,
   "id": "afccc64f-2855-4f54-99be-453589bc5748",
   "metadata": {},
   "outputs": [
    {
     "data": {
      "text/plain": [
       "[<div class=\"h3YV2d\">This app is pathetically buggy. It always only shows the most recent message in a thread in the notification. It is extremely annoying and can only be fixed by reinstalling the app. But then it just starts happening a few days later. EVERY other messaging app has this feature working correctly, but multi billion dollar Meta can't make a messaging app work. This bug has been here for over a year and I'm ready to give up and try to get friends to use something else.</div>,\n",
       " <div class=\"h3YV2d\">Slow, Slow, and Very Slow. Lately, the app doesn't even fully load on WiFi nor data. Takes forever to send photos and receive photos. Not sure what happened, but I don't like it. Edit: I bumped up the review to 4 stars because it's working like it was before, but I didn't give it 5 stars because sometimes I don't receive notifications for new messages.</div>]"
      ]
     },
     "execution_count": 66,
     "metadata": {},
     "output_type": "execute_result"
    }
   ],
   "source": [
    "reviews[0:2]"
   ]
  },
  {
   "cell_type": "code",
   "execution_count": 53,
   "id": "acad4c4a-3101-4526-a5d9-917e832d82aa",
   "metadata": {},
   "outputs": [
    {
     "data": {
      "text/plain": [
       "<div class=\"h3YV2d\">Slow, Slow, and Very Slow. Lately, the app doesn't even fully load on WiFi nor data. Takes forever to send photos and receive photos. Not sure what happened, but I don't like it. Edit: I bumped up the review to 4 stars because it's working like it was before, but I didn't give it 5 stars because sometimes I don't receive notifications for new messages.</div>"
      ]
     },
     "execution_count": 53,
     "metadata": {},
     "output_type": "execute_result"
    }
   ],
   "source": [
    "a[1]"
   ]
  },
  {
   "cell_type": "code",
   "execution_count": 54,
   "id": "00573805-44eb-42c8-b611-c169fb3dc30f",
   "metadata": {},
   "outputs": [],
   "source": [
    "import pandas as pd"
   ]
  },
  {
   "cell_type": "code",
   "execution_count": 59,
   "id": "fcd215c0-b369-44ed-9dc9-f8564247291f",
   "metadata": {},
   "outputs": [],
   "source": [
    "b={}"
   ]
  },
  {
   "cell_type": "code",
   "execution_count": 67,
   "id": "2b0b8826-f3db-46d5-9ed2-c014afb68cf7",
   "metadata": {},
   "outputs": [],
   "source": [
    "b['reviews']=reviews"
   ]
  },
  {
   "cell_type": "code",
   "execution_count": 68,
   "id": "3d32545c-e8ee-45e8-9aa3-06bc339b1888",
   "metadata": {},
   "outputs": [
    {
     "data": {
      "text/plain": [
       "{'reviews': [<div class=\"h3YV2d\">This app is pathetically buggy. It always only shows the most recent message in a thread in the notification. It is extremely annoying and can only be fixed by reinstalling the app. But then it just starts happening a few days later. EVERY other messaging app has this feature working correctly, but multi billion dollar Meta can't make a messaging app work. This bug has been here for over a year and I'm ready to give up and try to get friends to use something else.</div>,\n",
       "  <div class=\"h3YV2d\">Slow, Slow, and Very Slow. Lately, the app doesn't even fully load on WiFi nor data. Takes forever to send photos and receive photos. Not sure what happened, but I don't like it. Edit: I bumped up the review to 4 stars because it's working like it was before, but I didn't give it 5 stars because sometimes I don't receive notifications for new messages.</div>,\n",
       "  <div class=\"h3YV2d\">U S E L E S S ! ! This app keeps crashing on me. Whenever it happens, it sends my freshly sent messages into the shadow realm, and them it won't function or load at all for 5-10 minutes. The crop function is all over the place, and the record button has to be touched 3-4 times before it realizes you're trying to record. It won't load pictures or video properly at all, either. This app is useless and I hate that I can't just stop using it because of my friends.</div>]}"
      ]
     },
     "execution_count": 68,
     "metadata": {},
     "output_type": "execute_result"
    }
   ],
   "source": [
    "b"
   ]
  },
  {
   "cell_type": "code",
   "execution_count": 69,
   "id": "43bdf10a-5d67-4ab4-b20d-6855181a0ab8",
   "metadata": {},
   "outputs": [],
   "source": [
    "df=pd.DataFrame(reviews)"
   ]
  },
  {
   "cell_type": "code",
   "execution_count": 70,
   "id": "6b15e3d6-c180-4296-abec-1230c0d59ed4",
   "metadata": {},
   "outputs": [
    {
     "data": {
      "text/html": [
       "<div>\n",
       "<style scoped>\n",
       "    .dataframe tbody tr th:only-of-type {\n",
       "        vertical-align: middle;\n",
       "    }\n",
       "\n",
       "    .dataframe tbody tr th {\n",
       "        vertical-align: top;\n",
       "    }\n",
       "\n",
       "    .dataframe thead th {\n",
       "        text-align: right;\n",
       "    }\n",
       "</style>\n",
       "<table border=\"1\" class=\"dataframe\">\n",
       "  <thead>\n",
       "    <tr style=\"text-align: right;\">\n",
       "      <th></th>\n",
       "      <th>0</th>\n",
       "    </tr>\n",
       "  </thead>\n",
       "  <tbody>\n",
       "    <tr>\n",
       "      <th>0</th>\n",
       "      <td>This app is pathetically buggy. It always only...</td>\n",
       "    </tr>\n",
       "    <tr>\n",
       "      <th>1</th>\n",
       "      <td>Slow, Slow, and Very Slow. Lately, the app doe...</td>\n",
       "    </tr>\n",
       "    <tr>\n",
       "      <th>2</th>\n",
       "      <td>U S E L E S S ! ! This app keeps crashing on m...</td>\n",
       "    </tr>\n",
       "  </tbody>\n",
       "</table>\n",
       "</div>"
      ],
      "text/plain": [
       "                                                   0\n",
       "0  This app is pathetically buggy. It always only...\n",
       "1  Slow, Slow, and Very Slow. Lately, the app doe...\n",
       "2  U S E L E S S ! ! This app keeps crashing on m..."
      ]
     },
     "execution_count": 70,
     "metadata": {},
     "output_type": "execute_result"
    }
   ],
   "source": [
    "df"
   ]
  },
  {
   "cell_type": "code",
   "execution_count": null,
   "id": "ca9dded7-dbf0-45c8-a8cd-c46e8af14008",
   "metadata": {},
   "outputs": [],
   "source": []
  }
 ],
 "metadata": {
  "kernelspec": {
   "display_name": "Python 3 (ipykernel)",
   "language": "python",
   "name": "python3"
  },
  "language_info": {
   "codemirror_mode": {
    "name": "ipython",
    "version": 3
   },
   "file_extension": ".py",
   "mimetype": "text/x-python",
   "name": "python",
   "nbconvert_exporter": "python",
   "pygments_lexer": "ipython3",
   "version": "3.11.3"
  }
 },
 "nbformat": 4,
 "nbformat_minor": 5
}
